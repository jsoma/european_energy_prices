{
 "cells": [
  {
   "cell_type": "code",
   "execution_count": 7,
   "metadata": {},
   "outputs": [],
   "source": [
    "import pandas as pd"
   ]
  },
  {
   "cell_type": "code",
   "execution_count": 8,
   "metadata": {},
   "outputs": [],
   "source": [
    "df = pd.read_csv(\"europaenergy_today.csv\")\n",
    "\n",
    "# Remove all the missing values – countries or regions where we have no data\n",
    "df = df[df['price(eur/mwh)'].notna()]\n",
    "\n",
    "# And remove the column with local currency – it is always missing\n",
    "df = df.drop(['price(currency/mwh)'], axis=1)"
   ]
  },
  {
   "cell_type": "code",
   "execution_count": 9,
   "metadata": {},
   "outputs": [
    {
     "data": {
      "text/plain": [
       "country\n",
       "Austria            23.001563\n",
       "Belgium            13.705417\n",
       "Bulgaria           17.866667\n",
       "Croatia            17.172917\n",
       "Czech Republic     16.380417\n",
       "Denmark            17.470833\n",
       "Estonia            18.233750\n",
       "Finland            18.233750\n",
       "Germany            15.001667\n",
       "Greece            237.872083\n",
       "Hungary            17.747917\n",
       "Ireland           181.593750\n",
       "Italy             193.144583\n",
       "Latvia             18.233750\n",
       "Lithuania          18.233750\n",
       "Luxembourg         15.001667\n",
       "Netherlands        18.144167\n",
       "Norway             86.040903\n",
       "Poland             45.021667\n",
       "Portugal            6.697083\n",
       "Romania            17.866250\n",
       "Serbia             42.997917\n",
       "Slovakia           17.975000\n",
       "Slovenia           16.864583\n",
       "Spain               6.697083\n",
       "Sweden             18.233750\n",
       "Switzerland         6.565417\n",
       "Name: price(eur/mwh), dtype: float64"
      ]
     },
     "execution_count": 9,
     "metadata": {},
     "output_type": "execute_result"
    }
   ],
   "source": [
    "df.groupby('country')['price(eur/mwh)'].mean()\n"
   ]
  }
 ],
 "metadata": {
  "kernelspec": {
   "display_name": "Python 3.11.0rc2 64-bit ('3.11.0rc2')",
   "language": "python",
   "name": "python3"
  },
  "language_info": {
   "codemirror_mode": {
    "name": "ipython",
    "version": 3
   },
   "file_extension": ".py",
   "mimetype": "text/x-python",
   "name": "python",
   "nbconvert_exporter": "python",
   "pygments_lexer": "ipython3",
   "version": "3.11.0rc2"
  },
  "orig_nbformat": 4,
  "vscode": {
   "interpreter": {
    "hash": "fa07e5dff76123542c28abca75c0e47ea742948dbeeb360ccfbd2a5c7c277f8b"
   }
  }
 },
 "nbformat": 4,
 "nbformat_minor": 2
}
